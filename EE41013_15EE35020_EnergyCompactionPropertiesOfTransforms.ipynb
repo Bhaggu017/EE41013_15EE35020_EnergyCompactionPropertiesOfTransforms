{
 "cells": [
  {
   "cell_type": "code",
   "execution_count": 15,
   "metadata": {},
   "outputs": [],
   "source": [
    "import numpy as np\n",
    "import math\n",
    "import cmath\n",
    "import matplotlib.pyplot as plt\n",
    "import random"
   ]
  },
  {
   "cell_type": "code",
   "execution_count": 16,
   "metadata": {},
   "outputs": [],
   "source": [
    "def DFT(x):\n",
    "    N = len(x)\n",
    "    D = np.ones((N,N),dtype = complex)\n",
    "    for i in range(1,N):\n",
    "        for k in range(1,N):\n",
    "            D[i][k] = np.exp(-2j*(np.pi*i*k)/N)\n",
    "\n",
    "    y = np.matmul(D,np.transpose(x))\n",
    "    return np.transpose(y)"
   ]
  },
  {
   "cell_type": "code",
   "execution_count": 17,
   "metadata": {},
   "outputs": [],
   "source": [
    "def IDFT(y):\n",
    "    N = len(y)\n",
    "    D = np.ones((N,N),dtype = complex)\n",
    "    for i in range(1,N):\n",
    "        for k in range(1,N):\n",
    "            D[i][k] = np.exp(2j*(np.pi*i*k)/N)\n",
    "\n",
    "    z = np.matmul(D/N,np.transpose(y))\n",
    "    return np.transpose(z)"
   ]
  },
  {
   "cell_type": "code",
   "execution_count": 18,
   "metadata": {},
   "outputs": [],
   "source": [
    "def DCT(x):\n",
    "    N  = len(x)\n",
    "    Y = np.array([0.]*N)\n",
    "    for k in range(N):\n",
    "        for i in range(N):\n",
    "            Y[k] += 2.0*x[i]*math.cos(math.pi*k*(2.0*i+1)/(2.0*N))\n",
    "    return Y"
   ]
  },
  {
   "cell_type": "code",
   "execution_count": 19,
   "metadata": {},
   "outputs": [],
   "source": [
    "def IDCT(y):\n",
    "    N  = len(y)\n",
    "    Y = np.array([0.]*N)\n",
    "    for i in range(N):\n",
    "        for k in range(N):\n",
    "            if k == 0:\n",
    "                CONST = 0.5\n",
    "            else:\n",
    "                CONST = 1    \n",
    "            Y[i] += CONST*y[k]*math.cos(math.pi*k*(2*i+1)/(2*N))\n",
    "    return Y/N"
   ]
  },
  {
   "cell_type": "code",
   "execution_count": 20,
   "metadata": {},
   "outputs": [],
   "source": [
    "h2 = np.array([[1,1],[1,-1]])\n",
    "def haar_mat(n):\n",
    "    n = int(n)\n",
    "    if n == 1:\n",
    "        return h2\n",
    "    else:\n",
    "        a = np.kron(haar_mat(n-1),[1,1])\n",
    "        b = np.kron(np.identity(int(math.pow(2,n-1)))*math.pow(2,(n-1)/2.0),[1,-1])\n",
    "        #print(np.concatenate((a,b),axis=0))\n",
    "        return np.concatenate((a,b),axis=0)\n",
    "\n",
    "def haar(x):\n",
    "    return np.matmul(haar_mat(math.log(len(x),2)),np.transpose(x))"
   ]
  },
  {
   "cell_type": "code",
   "execution_count": 21,
   "metadata": {},
   "outputs": [],
   "source": [
    "def inverse_haar(y):\n",
    "    n = int(math.log(len(y),2))\n",
    "    N = len(y)\n",
    "    hn = haar_mat(n)\n",
    "    return np.matmul(np.transpose(hn)/N,np.transpose(y))"
   ]
  },
  {
   "cell_type": "code",
   "execution_count": 22,
   "metadata": {},
   "outputs": [],
   "source": [
    "def En_dft(x,L):\n",
    "    y = DFT(x)\n",
    "    N = len(y)\n",
    "    a = int((N+1-L)/2)\n",
    "    b = int((N-1+L)/2)\n",
    "    for i in range(a,b+1):\n",
    "        y[i] = 0\n",
    "    x_m = IDFT(y)\n",
    "\n",
    "    return ((x - x_m) ** 2).mean(axis=0)\n"
   ]
  },
  {
   "cell_type": "code",
   "execution_count": 23,
   "metadata": {},
   "outputs": [],
   "source": [
    "def En_dct(x,L):\n",
    "    y = DCT(x)\n",
    "    N = len(y)\n",
    "    for i in range(N-L,N):\n",
    "        y[i] = 0\n",
    "    x_m = IDCT(y)\n",
    "\n",
    "    return ((x - x_m) ** 2).mean(axis=0)"
   ]
  },
  {
   "cell_type": "code",
   "execution_count": 24,
   "metadata": {},
   "outputs": [],
   "source": [
    "def En_haar(x,L):\n",
    "    y = haar(x)\n",
    "    N = len(y)\n",
    "    for i in range(N-L,N):\n",
    "        y[i] = 0\n",
    "    x_m = inverse_haar(y)\n",
    "\n",
    "    return ((x - x_m) ** 2).mean(axis=0)"
   ]
  },
  {
   "cell_type": "code",
   "execution_count": 25,
   "metadata": {},
   "outputs": [
    {
     "name": "stdout",
     "output_type": "stream",
     "text": [
      "\n",
      "X:  [59 38 93 60 36 25 68 66 33 88 81 34  7 69  1 45 53 26 35 98 51 43 70 50\n",
      " 22 31 40 83 49  5 30  8 99 65 21 58 95 28 44 11 23 10 87 19 61 16 89 96\n",
      " 27 97 37 56 73 46  0 57 77 20 32  9 54 12 71 85]\n"
     ]
    },
    {
     "name": "stderr",
     "output_type": "stream",
     "text": [
      "C:\\Users\\HP\\Anaconda3\\lib\\site-packages\\numpy\\core\\numeric.py:492: ComplexWarning: Casting complex values to real discards the imaginary part\n",
      "  return array(a, dtype, copy=False, order=order)\n",
      "C:\\Users\\HP\\Anaconda3\\lib\\site-packages\\matplotlib\\legend.py:641: UserWarning: Unrecognized location \"down right\". Falling back on \"best\"; valid locations are\n",
      "\tbest\n",
      "\tupper right\n",
      "\tupper left\n",
      "\tlower left\n",
      "\tlower right\n",
      "\tright\n",
      "\tcenter left\n",
      "\tcenter right\n",
      "\tlower center\n",
      "\tupper center\n",
      "\tcenter\n",
      "\n",
      "  % (loc, '\\n\\t'.join(self.codes)))\n"
     ]
    },
    {
     "data": {
      "image/png": "[encoded data removed]",
      "text/plain": [
       "<Figure size 432x288 with 1 Axes>"
      ]
     },
     "metadata": {},
     "output_type": "display_data"
    }
   ],
   "source": [
    "X = np.array(random.sample(range(100),64))\n",
    "print(\"\\nX: \", X)\n",
    "plt.figure()\n",
    "ydft = [0.]*64\n",
    "ydct = [0.]*64\n",
    "yhaar = [0.]*64\n",
    "for L in range(64):\n",
    "    ydft[L] = En_dft(X,L)\n",
    "    ydct[L] = En_dct(X,L)\n",
    "    yhaar[L] = En_haar(X,L) \n",
    "plt.title('Energy Compaction Comparison Plot')\n",
    "plt.plot(range(64),ydft,'--g',label = \"DFT\")\n",
    "plt.plot(range(64),ydct,'-y',label = 'DCT')\n",
    "plt.plot(range(64),yhaar,'-r',label = 'Haar')\n",
    "plt.legend(loc='down right')    \n",
    "plt.xlabel(\"L\")\n",
    "plt.ylabel(\"E(L)\")\n",
    "plt.show()"
   ]
  },
  {
   "cell_type": "code",
   "execution_count": null,
   "metadata": {},
   "outputs": [],
   "source": []
  }
 ],
 "metadata": {
  "kernelspec": {
   "display_name": "Python 3",
   "language": "python",
   "name": "python3"
  },
  "language_info": {
   "codemirror_mode": {
    "name": "ipython",
    "version": 3
   },
   "file_extension": ".py",
   "mimetype": "text/x-python",
   "name": "python",
   "nbconvert_exporter": "python",
   "pygments_lexer": "ipython3",
   "version": "3.6.5"
  }
 },
 "nbformat": 4,
 "nbformat_minor": 2
}
